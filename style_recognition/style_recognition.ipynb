{
 "cells": [
  {
   "cell_type": "markdown",
   "id": "93d1b7d9",
   "metadata": {},
   "source": [
    "Hello everyone,\n",
    "\n",
    "In this module, it is required to implement the style recognizer for Arabic Font Identification System.\n",
    "\n",
    "At first, what are the main steps that we should go through in this module?\n",
    "\n",
    "\n",
    "# TODOs:\n",
    "\n",
    "1. Understand the problem\n",
    "2. ..\n",
    "3. Testing"
   ]
  },
  {
   "cell_type": "markdown",
   "id": "1fbbcf51",
   "metadata": {},
   "source": [
    "# 1. Understand the problem\n",
    "\n",
    "Features designated for each style or set of styles might be used in a sequential manner (sequential decision) or parallel manner. we will consider all the features to be equally important and, therefore, adopt a parallel manner. That is to say, each feature descriptor is fed to a classification machine, and the final decision is the combination of all the decisions of these machines.\n",
    "\n",
    "- Input: --\n",
    "- Output: --"
   ]
  },
  {
   "cell_type": "markdown",
   "id": "05cb1f9a",
   "metadata": {},
   "source": [
    "# 2. ..."
   ]
  },
  {
   "cell_type": "code",
   "execution_count": 1,
   "id": "6734983e",
   "metadata": {},
   "outputs": [],
   "source": []
  },
  {
   "cell_type": "markdown",
   "id": "3b977652",
   "metadata": {},
   "source": [
    "# 3. Testing"
   ]
  },
  {
   "cell_type": "code",
   "execution_count": 2,
   "id": "346b6db0",
   "metadata": {},
   "outputs": [],
   "source": [
    "def testing():\n",
    "    pass"
   ]
  },
  {
   "cell_type": "code",
   "execution_count": 3,
   "id": "766aa718",
   "metadata": {},
   "outputs": [],
   "source": [
    "if __name__ == '__main__':\n",
    "    testing()"
   ]
  }
 ],
 "metadata": {
  "kernelspec": {
   "display_name": "Python 3 (ipykernel)",
   "language": "python",
   "name": "python3"
  },
  "language_info": {
   "codemirror_mode": {
    "name": "ipython",
    "version": 3
   },
   "file_extension": ".py",
   "mimetype": "text/x-python",
   "name": "python",
   "nbconvert_exporter": "python",
   "pygments_lexer": "ipython3",
   "version": "3.9.7"
  }
 },
 "nbformat": 4,
 "nbformat_minor": 5
}
