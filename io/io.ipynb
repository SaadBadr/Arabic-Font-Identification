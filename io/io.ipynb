{
 "cells": [
  {
   "cell_type": "markdown",
   "id": "93d1b7d9",
   "metadata": {},
   "source": [
    "Hello everyone,\n",
    "\n",
    "In this module, it is required to implement Input/Output utilities for Arabic Font Identification System.\n",
    "\n",
    "At first, what are the main steps that we should go through in this module?\n",
    "\n",
    "\n",
    "# TODOs:\n",
    "\n",
    "1. Understand the problem\n",
    "2. Read labeled images\n",
    "3. Read classes names "
   ]
  },
  {
   "cell_type": "markdown",
   "id": "1fbbcf51",
   "metadata": {},
   "source": [
    "# 1. Understand the problem\n",
    "\n",
    "The dataset images are arranged in ACdata_base directory, where there exist a subdirectory for each class.\n",
    "Also, inside ACdata_base, there is a text file 'names.txt' which includes the name of each class.\n",
    "\n",
    "- Input: dataset path\n",
    "- Output: images, labels, classes names\n",
    "- Functions: read_training_data, read_classes"
   ]
  },
  {
   "cell_type": "markdown",
   "id": "05cb1f9a",
   "metadata": {},
   "source": [
    "# 2. Read Images"
   ]
  },
  {
   "cell_type": "code",
   "execution_count": 1,
   "id": "6734983e",
   "metadata": {},
   "outputs": [],
   "source": [
    "import os\n",
    "import cv2\n",
    "\n",
    "def read_training_data(dataset_path='../ACdata_base', flags=0, debug=False):\n",
    "    \n",
    "    dataset_images = []\n",
    "    dataset_labels = []\n",
    "\n",
    "    for dirname, _, filenames in os.walk(dataset_path):\n",
    "        for filename in filenames:\n",
    "            if filename.endswith('.txt'):\n",
    "                continue\n",
    "            if debug:\n",
    "                print('reading: ', os.path.join(dirname, filename))\n",
    "            img = cv2.imread(os.path.join(dirname, filename), flags)\n",
    "            dataset_images.append(img)\n",
    "            dataset_labels.append(int(dirname[-1])-1)\n",
    "    \n",
    "    return dataset_images, dataset_labels\n",
    "            "
   ]
  },
  {
   "cell_type": "markdown",
   "id": "e7f2269d",
   "metadata": {},
   "source": [
    "# 3. Read Classes Names"
   ]
  },
  {
   "cell_type": "code",
   "execution_count": 2,
   "id": "c1266442",
   "metadata": {},
   "outputs": [],
   "source": [
    "def read_classes(names_path='../ACdata_base/names.txt'):\n",
    "    classes = []\n",
    "    with open(names_path) as f:\n",
    "        for line in f:\n",
    "            font = line.split('___')[-1].strip()\n",
    "            classes.append(font)\n",
    "    return classes"
   ]
  },
  {
   "cell_type": "markdown",
   "id": "1e8fd4d7",
   "metadata": {},
   "source": [
    "# 4. Testing"
   ]
  },
  {
   "cell_type": "code",
   "execution_count": 3,
   "id": "346b6db0",
   "metadata": {},
   "outputs": [],
   "source": [
    "def testing():\n",
    "    \n",
    "    import matplotlib.pyplot as plt\n",
    "    from random import randrange\n",
    "    \n",
    "    \n",
    "    dataset_images, dataset_labels = read_training_data()\n",
    "    classes = read_classes()\n",
    "    \n",
    "    assert len(dataset_images) == len(dataset_labels)\n",
    "    \n",
    "    print('classes:', classes)\n",
    "\n",
    "    random_index = randrange(len(dataset_images))\n",
    "\n",
    "    plt.imshow(dataset_images[random_index], cmap='gray')\n",
    "    plt.title('Random Dataset Image of class: ' + classes[dataset_labels[random_index]])\n",
    "    plt.show()"
   ]
  },
  {
   "cell_type": "code",
   "execution_count": 4,
   "id": "766aa718",
   "metadata": {},
   "outputs": [
    {
     "name": "stdout",
     "output_type": "stream",
     "text": [
      "classes: ['diwani', 'naskh', 'parsi', 'rekaa', 'thuluth', 'maghribi', 'kufi', 'mohakek', 'Squar-kufic']\n"
     ]
    },
    {
     "data": {
      "image/png": "[encoded data removed]",
      "text/plain": [
       "<Figure size 432x288 with 1 Axes>"
      ]
     },
     "metadata": {
      "needs_background": "light"
     },
     "output_type": "display_data"
    }
   ],
   "source": [
    "if __name__ == '__main__':\n",
    "    testing()"
   ]
  },
  {
   "cell_type": "code",
   "execution_count": null,
   "id": "20a4eccb",
   "metadata": {},
   "outputs": [],
   "source": []
  }
 ],
 "metadata": {
  "kernelspec": {
   "display_name": "Python 3",
   "language": "python",
   "name": "python3"
  },
  "language_info": {
   "codemirror_mode": {
    "name": "ipython",
    "version": 3
   },
   "file_extension": ".py",
   "mimetype": "text/x-python",
   "name": "python",
   "nbconvert_exporter": "python",
   "pygments_lexer": "ipython3",
   "version": "3.8.8"
  }
 },
 "nbformat": 4,
 "nbformat_minor": 5
}
