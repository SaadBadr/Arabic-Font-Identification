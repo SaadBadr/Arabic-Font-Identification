{
 "cells": [
  {
   "cell_type": "markdown",
   "id": "4fce9045",
   "metadata": {},
   "source": [
    "Hello everyone,\n",
    "\n",
    "In this project, it is required to implement an Arabic Font Identification System that will be able to identify the font for a given Arabic text snippet.\n",
    "We will work with the [(ACdb) Arabic Calligraphy Database](https://drive.google.com/file/d/1dC7pwzT_RHL9B42H8-Nzf5Sant-86NV6/view) containing 9 categories of computer printed Arabic text snippets.\n",
    "\n",
    "At first, what are the main steps we should go through in this project?\n",
    "\n",
    "# TODOs:\n",
    "\n",
    "1. Understand the problem (look at the big picture)\n",
    "2. Get the data\n",
    "3. Explore the data\n",
    "4. Preprocessing\n",
    "5. Extract features  \n",
    "6. Style Recognition\n",
    "7. Result"
   ]
  },
  {
   "cell_type": "markdown",
   "id": "a5c65d11",
   "metadata": {},
   "source": [
    "# 1. Understand the problem\n",
    "\n",
    "*What is the objective?* Despite this question appears so easy, but it is very important..\n",
    "\n",
    "Here, the objective is --\n",
    "\n",
    "So, we need to build a predictive model with:\n",
    "\n",
    "- Input: --\n",
    "- Output: --"
   ]
  },
  {
   "cell_type": "markdown",
   "id": "fd49a965",
   "metadata": {},
   "source": [
    "# 2. Get the data\n",
    "\n",
    "After downloading and uncompressing the dataset, we will import it using --:"
   ]
  },
  {
   "cell_type": "markdown",
   "id": "3cca3709",
   "metadata": {},
   "source": [
    "# 3. Explore the data"
   ]
  },
  {
   "cell_type": "code",
   "execution_count": null,
   "id": "f2193b9b",
   "metadata": {},
   "outputs": [],
   "source": []
  },
  {
   "cell_type": "markdown",
   "id": "12adf8dc",
   "metadata": {},
   "source": [
    "\n",
    "# 4. Preprocessing"
   ]
  },
  {
   "cell_type": "code",
   "execution_count": null,
   "id": "04235d30",
   "metadata": {},
   "outputs": [],
   "source": []
  },
  {
   "cell_type": "markdown",
   "id": "d0e5a807",
   "metadata": {},
   "source": [
    "\n",
    "# 5. Extract features"
   ]
  },
  {
   "cell_type": "code",
   "execution_count": null,
   "id": "4c2afb7b",
   "metadata": {},
   "outputs": [],
   "source": []
  },
  {
   "cell_type": "markdown",
   "id": "f078ba70",
   "metadata": {},
   "source": [
    "\n",
    "# 6. Styles Recognition"
   ]
  },
  {
   "cell_type": "code",
   "execution_count": null,
   "id": "9ee67302",
   "metadata": {},
   "outputs": [],
   "source": []
  },
  {
   "cell_type": "markdown",
   "id": "43e8bd02",
   "metadata": {},
   "source": [
    "\n",
    "# 7. Result"
   ]
  },
  {
   "cell_type": "code",
   "execution_count": null,
   "id": "d216c3e1",
   "metadata": {},
   "outputs": [],
   "source": []
  }
 ],
 "metadata": {
  "kernelspec": {
   "display_name": "Python 3 (ipykernel)",
   "language": "python",
   "name": "python3"
  },
  "language_info": {
   "codemirror_mode": {
    "name": "ipython",
    "version": 3
   },
   "file_extension": ".py",
   "mimetype": "text/x-python",
   "name": "python",
   "nbconvert_exporter": "python",
   "pygments_lexer": "ipython3",
   "version": "3.9.7"
  }
 },
 "nbformat": 4,
 "nbformat_minor": 5
}
