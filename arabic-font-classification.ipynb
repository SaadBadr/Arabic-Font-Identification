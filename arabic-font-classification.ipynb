{
 "cells": [
  {
   "cell_type": "markdown",
   "id": "cfcebeb5",
   "metadata": {
    "papermill": {
     "duration": 0.024879,
     "end_time": "2021-11-20T10:10:45.025091",
     "exception": false,
     "start_time": "2021-11-20T10:10:45.000212",
     "status": "completed"
    },
    "tags": []
   },
   "source": [
    "Hello everyone,\n",
    "\n",
    "In this project, it is required to implement an Arabic Font Identification System that will be able to identify the font for a given Arabic text snippet.\n",
    "We will work with the [(ACdb) Arabic Calligraphy Database](https://drive.google.com/file/d/1dC7pwzT_RHL9B42H8-Nzf5Sant-86NV6/view) containing 9 categories of computer printed Arabic text snippets.\n",
    "\n",
    "At first, what are the main steps we should go through in this project?\n",
    "\n",
    "# TODOs:\n",
    "\n",
    "1. Understand the problem (look at the big picture)\n",
    "2. Get the data\n",
    "3. Explore the data and get insights\n",
    "4. Extract features\n",
    "5. Choose features and prepare the data  \n",
    "6. Explore different models and choose one\n",
    "7. Fine-tune the chosen model"
   ]
  },
  {
   "cell_type": "markdown",
   "id": "bf8e6208",
   "metadata": {
    "papermill": {
     "duration": 0.020386,
     "end_time": "2021-11-20T10:10:45.069012",
     "exception": false,
     "start_time": "2021-11-20T10:10:45.048626",
     "status": "completed"
    },
    "tags": []
   },
   "source": [
    "# 1. Understand the problem\n",
    "\n",
    "*What is the objective?* Despite this question appears so easy, but it is very important..\n",
    "\n",
    "Here, the objective is --\n",
    "\n",
    "So, we need to build a predictive model with:\n",
    "\n",
    "- Input: --\n",
    "- Output: --"
   ]
  },
  {
   "cell_type": "markdown",
   "id": "223a295f",
   "metadata": {
    "papermill": {
     "duration": 0.020959,
     "end_time": "2021-11-20T10:10:45.111439",
     "exception": false,
     "start_time": "2021-11-20T10:10:45.090480",
     "status": "completed"
    },
    "tags": []
   },
   "source": [
    "# 2. Get the data\n",
    "\n",
    "After downloading and uncompressing the dataset, we will import it using --:"
   ]
  },
  {
   "cell_type": "code",
   "execution_count": 2,
   "id": "652bd145",
   "metadata": {
    "execution": {
     "iopub.execute_input": "2021-11-20T10:10:45.217017Z",
     "iopub.status.busy": "2021-11-20T10:10:45.216010Z",
     "iopub.status.idle": "2021-11-20T10:10:45.237202Z",
     "shell.execute_reply": "2021-11-20T10:10:45.238070Z",
     "shell.execute_reply.started": "2021-11-20T10:08:13.805403Z"
    },
    "papermill": {
     "duration": 0.048392,
     "end_time": "2021-11-20T10:10:45.238432",
     "exception": false,
     "start_time": "2021-11-20T10:10:45.190040",
     "status": "completed"
    },
    "tags": []
   },
   "outputs": [],
   "source": []
  },
  {
   "cell_type": "markdown",
   "id": "8acc697c",
   "metadata": {
    "papermill": {
     "duration": 0.021372,
     "end_time": "2021-11-20T10:10:45.285163",
     "exception": false,
     "start_time": "2021-11-20T10:10:45.263791",
     "status": "completed"
    },
    "tags": []
   },
   "source": [
    "\n",
    "# 3. Explore the data and get insights"
   ]
  },
  {
   "cell_type": "code",
   "execution_count": null,
   "id": "87f6814f",
   "metadata": {},
   "outputs": [],
   "source": []
  },
  {
   "cell_type": "markdown",
   "id": "8acc697c",
   "metadata": {
    "papermill": {
     "duration": 0.021372,
     "end_time": "2021-11-20T10:10:45.285163",
     "exception": false,
     "start_time": "2021-11-20T10:10:45.263791",
     "status": "completed"
    },
    "tags": []
   },
   "source": [
    "\n",
    "# 4. Extract features"
   ]
  },
  {
   "cell_type": "code",
   "execution_count": null,
   "id": "87f6814f",
   "metadata": {},
   "outputs": [],
   "source": []
  },
  {
   "cell_type": "markdown",
   "id": "8acc697c",
   "metadata": {
    "papermill": {
     "duration": 0.021372,
     "end_time": "2021-11-20T10:10:45.285163",
     "exception": false,
     "start_time": "2021-11-20T10:10:45.263791",
     "status": "completed"
    },
    "tags": []
   },
   "source": [
    "\n",
    "# 5. Choose features and prepare the data"
   ]
  },
  {
   "cell_type": "code",
   "execution_count": null,
   "id": "87f6814f",
   "metadata": {},
   "outputs": [],
   "source": []
  },
  {
   "cell_type": "markdown",
   "id": "8acc697c",
   "metadata": {
    "papermill": {
     "duration": 0.021372,
     "end_time": "2021-11-20T10:10:45.285163",
     "exception": false,
     "start_time": "2021-11-20T10:10:45.263791",
     "status": "completed"
    },
    "tags": []
   },
   "source": [
    "\n",
    "# 6. Explore different models and choose one"
   ]
  },
  {
   "cell_type": "code",
   "execution_count": null,
   "id": "87f6814f",
   "metadata": {},
   "outputs": [],
   "source": []
  },
  {
   "cell_type": "markdown",
   "id": "8acc697c",
   "metadata": {
    "papermill": {
     "duration": 0.021372,
     "end_time": "2021-11-20T10:10:45.285163",
     "exception": false,
     "start_time": "2021-11-20T10:10:45.263791",
     "status": "completed"
    },
    "tags": []
   },
   "source": [
    "\n",
    "# 7. Fine-tune the chosen model"
   ]
  },
  {
   "cell_type": "code",
   "execution_count": null,
   "id": "87f6814f",
   "metadata": {},
   "outputs": [],
   "source": []
  }
 ],
 "metadata": {
  "kernelspec": {
   "display_name": "Python 3",
   "language": "python",
   "name": "python3"
  },
  "language_info": {
   "codemirror_mode": {
    "name": "ipython",
    "version": 3
   },
   "file_extension": ".py",
   "mimetype": "text/x-python",
   "name": "python",
   "nbconvert_exporter": "python",
   "pygments_lexer": "ipython3",
   "version": "3.7.9"
  },
  "papermill": {
   "default_parameters": {},
   "duration": 15.372776,
   "end_time": "2021-11-20T10:10:51.870107",
   "environment_variables": {},
   "exception": null,
   "input_path": "__notebook__.ipynb",
   "output_path": "__notebook__.ipynb",
   "parameters": {},
   "start_time": "2021-11-20T10:10:36.497331",
   "version": "2.3.3"
  }
 },
 "nbformat": 4,
 "nbformat_minor": 5
}
